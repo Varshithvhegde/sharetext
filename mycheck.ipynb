{
 "cells": [
  {
   "cell_type": "code",
   "execution_count": 1,
   "metadata": {},
   "outputs": [],
   "source": [
    "from deepface import DeepFace\n",
    "import cv2\n",
    "import matplotlib.pyplot as plt"
   ]
  },
  {
   "cell_type": "code",
   "execution_count": null,
   "metadata": {},
   "outputs": [],
   "source": [
    "\n"
   ]
  },
  {
   "cell_type": "code",
   "execution_count": 2,
   "metadata": {},
   "outputs": [],
   "source": [
    "# Take real time video\n",
    "cap = cv2.VideoCapture(0)\n",
    "while True:\n",
    "    ret, frame = cap.read()\n",
    "    cv2.imshow('frame', frame)\n",
    "    if cv2.waitKey(1) & 0xFF == ord('q'):\n",
    "        break\n",
    "cap.release()\n"
   ]
  },
  {
   "cell_type": "code",
   "execution_count": null,
   "metadata": {},
   "outputs": [],
   "source": []
  },
  {
   "cell_type": "markdown",
   "metadata": {},
   "source": []
  },
  {
   "cell_type": "code",
   "execution_count": 3,
   "metadata": {},
   "outputs": [],
   "source": [
    "# Take a picture\n",
    "cv2.imwrite('mycheck.jpg', frame)\n",
    "cv2.destroyAllWindows()\n"
   ]
  },
  {
   "cell_type": "code",
   "execution_count": 1,
   "metadata": {},
   "outputs": [
    {
     "ename": "NameError",
     "evalue": "name 'cv2' is not defined",
     "output_type": "error",
     "traceback": [
      "\u001b[1;31m---------------------------------------------------------------------------\u001b[0m",
      "\u001b[1;31mNameError\u001b[0m                                 Traceback (most recent call last)",
      "Cell \u001b[1;32mIn [1], line 3\u001b[0m\n\u001b[0;32m      1\u001b[0m \u001b[39m# Check the picture\u001b[39;00m\n\u001b[0;32m      2\u001b[0m \u001b[39m# use img2 as the picture you want to check\u001b[39;00m\n\u001b[1;32m----> 3\u001b[0m img \u001b[39m=\u001b[39m cv2\u001b[39m.\u001b[39mimread(\u001b[39m'\u001b[39m\u001b[39mmycheck.jpg\u001b[39m\u001b[39m'\u001b[39m)\n\u001b[0;32m      4\u001b[0m plt\u001b[39m.\u001b[39mimshow(cv2\u001b[39m.\u001b[39mcvtColor(img, cv2\u001b[39m.\u001b[39mCOLOR_BGR2RGB))\n\u001b[0;32m      5\u001b[0m plt\u001b[39m.\u001b[39mshow()\n",
      "\u001b[1;31mNameError\u001b[0m: name 'cv2' is not defined"
     ]
    }
   ],
   "source": [
    "# Check the picture\n",
    "# use img2 as the picture you want to check\n",
    "img = cv2.imread('mycheck.jpg')\n",
    "plt.imshow(cv2.cvtColor(img, cv2.COLOR_BGR2RGB))\n",
    "plt.show()"
   ]
  },
  {
   "cell_type": "code",
   "execution_count": 5,
   "metadata": {},
   "outputs": [
    {
     "ename": "ValueError",
     "evalue": "Face could not be detected. Please confirm that the picture is a face photo or consider to set enforce_detection param to False.",
     "output_type": "error",
     "traceback": [
      "\u001b[1;31m---------------------------------------------------------------------------\u001b[0m",
      "\u001b[1;31mValueError\u001b[0m                                Traceback (most recent call last)",
      "Cell \u001b[1;32mIn [5], line 1\u001b[0m\n\u001b[1;32m----> 1\u001b[0m result\u001b[39m=\u001b[39mDeepFace\u001b[39m.\u001b[39;49manalyze(img,actions\u001b[39m=\u001b[39;49m[\u001b[39m'\u001b[39;49m\u001b[39memotion\u001b[39;49m\u001b[39m'\u001b[39;49m])\n",
      "File \u001b[1;32mc:\\Users\\varsh.LAPTOP-IG9S62OJ\\AppData\\Local\\Programs\\Python\\Python310\\lib\\site-packages\\deepface\\DeepFace.py:393\u001b[0m, in \u001b[0;36manalyze\u001b[1;34m(img_path, actions, models, enforce_detection, detector_backend, prog_bar)\u001b[0m\n\u001b[0;32m    391\u001b[0m \u001b[39mif\u001b[39;00m action \u001b[39m==\u001b[39m \u001b[39m'\u001b[39m\u001b[39memotion\u001b[39m\u001b[39m'\u001b[39m:\n\u001b[0;32m    392\u001b[0m \temotion_labels \u001b[39m=\u001b[39m [\u001b[39m'\u001b[39m\u001b[39mangry\u001b[39m\u001b[39m'\u001b[39m, \u001b[39m'\u001b[39m\u001b[39mdisgust\u001b[39m\u001b[39m'\u001b[39m, \u001b[39m'\u001b[39m\u001b[39mfear\u001b[39m\u001b[39m'\u001b[39m, \u001b[39m'\u001b[39m\u001b[39mhappy\u001b[39m\u001b[39m'\u001b[39m, \u001b[39m'\u001b[39m\u001b[39msad\u001b[39m\u001b[39m'\u001b[39m, \u001b[39m'\u001b[39m\u001b[39msurprise\u001b[39m\u001b[39m'\u001b[39m, \u001b[39m'\u001b[39m\u001b[39mneutral\u001b[39m\u001b[39m'\u001b[39m]\n\u001b[1;32m--> 393\u001b[0m \timg, region \u001b[39m=\u001b[39m functions\u001b[39m.\u001b[39;49mpreprocess_face(img \u001b[39m=\u001b[39;49m img_path, target_size \u001b[39m=\u001b[39;49m (\u001b[39m48\u001b[39;49m, \u001b[39m48\u001b[39;49m), grayscale \u001b[39m=\u001b[39;49m \u001b[39mTrue\u001b[39;49;00m, enforce_detection \u001b[39m=\u001b[39;49m enforce_detection, detector_backend \u001b[39m=\u001b[39;49m detector_backend, return_region \u001b[39m=\u001b[39;49m \u001b[39mTrue\u001b[39;49;00m)\n\u001b[0;32m    395\u001b[0m \temotion_predictions \u001b[39m=\u001b[39m models[\u001b[39m'\u001b[39m\u001b[39memotion\u001b[39m\u001b[39m'\u001b[39m]\u001b[39m.\u001b[39mpredict(img)[\u001b[39m0\u001b[39m,:]\n\u001b[0;32m    397\u001b[0m \tsum_of_predictions \u001b[39m=\u001b[39m emotion_predictions\u001b[39m.\u001b[39msum()\n",
      "File \u001b[1;32mc:\\Users\\varsh.LAPTOP-IG9S62OJ\\AppData\\Local\\Programs\\Python\\Python310\\lib\\site-packages\\deepface\\commons\\functions.py:178\u001b[0m, in \u001b[0;36mpreprocess_face\u001b[1;34m(img, target_size, grayscale, enforce_detection, detector_backend, return_region, align)\u001b[0m\n\u001b[0;32m    175\u001b[0m img \u001b[39m=\u001b[39m load_image(img)\n\u001b[0;32m    176\u001b[0m base_img \u001b[39m=\u001b[39m img\u001b[39m.\u001b[39mcopy()\n\u001b[1;32m--> 178\u001b[0m img, region \u001b[39m=\u001b[39m detect_face(img \u001b[39m=\u001b[39;49m img, detector_backend \u001b[39m=\u001b[39;49m detector_backend, grayscale \u001b[39m=\u001b[39;49m grayscale, enforce_detection \u001b[39m=\u001b[39;49m enforce_detection, align \u001b[39m=\u001b[39;49m align)\n\u001b[0;32m    180\u001b[0m \u001b[39m#--------------------------\u001b[39;00m\n\u001b[0;32m    182\u001b[0m \u001b[39mif\u001b[39;00m img\u001b[39m.\u001b[39mshape[\u001b[39m0\u001b[39m] \u001b[39m==\u001b[39m \u001b[39m0\u001b[39m \u001b[39mor\u001b[39;00m img\u001b[39m.\u001b[39mshape[\u001b[39m1\u001b[39m] \u001b[39m==\u001b[39m \u001b[39m0\u001b[39m:\n",
      "File \u001b[1;32mc:\\Users\\varsh.LAPTOP-IG9S62OJ\\AppData\\Local\\Programs\\Python\\Python310\\lib\\site-packages\\deepface\\commons\\functions.py:124\u001b[0m, in \u001b[0;36mdetect_face\u001b[1;34m(img, detector_backend, grayscale, enforce_detection, align)\u001b[0m\n\u001b[0;32m    122\u001b[0m \t\u001b[39mreturn\u001b[39;00m img, img_region\n\u001b[0;32m    123\u001b[0m \u001b[39melse\u001b[39;00m:\n\u001b[1;32m--> 124\u001b[0m \t\u001b[39mraise\u001b[39;00m \u001b[39mValueError\u001b[39;00m(\u001b[39m\"\u001b[39m\u001b[39mFace could not be detected. Please confirm that the picture is a face photo or consider to set enforce_detection param to False.\u001b[39m\u001b[39m\"\u001b[39m)\n",
      "\u001b[1;31mValueError\u001b[0m: Face could not be detected. Please confirm that the picture is a face photo or consider to set enforce_detection param to False."
     ]
    }
   ],
   "source": [
    "result=DeepFace.analyze(img,actions=['emotion'])"
   ]
  },
  {
   "cell_type": "code",
   "execution_count": null,
   "metadata": {},
   "outputs": [
    {
     "name": "stdout",
     "output_type": "stream",
     "text": [
      "{'emotion': {'angry': 0.2621764706254882, 'disgust': 4.074759384089498e-08, 'fear': 30.221821678985457, 'happy': 4.05118564076338, 'sad': 0.6131026327969213, 'surprise': 64.65870527378948, 'neutral': 0.19300383269064622}, 'dominant_emotion': 'surprise', 'region': {'x': 166, 'y': 82, 'w': 194, 'h': 194}}\n"
     ]
    }
   ],
   "source": [
    "print(result)"
   ]
  },
  {
   "cell_type": "markdown",
   "metadata": {},
   "source": []
  },
  {
   "cell_type": "code",
   "execution_count": null,
   "metadata": {},
   "outputs": [
    {
     "name": "stdout",
     "output_type": "stream",
     "text": [
      "surprise\n"
     ]
    },
    {
     "data": {
      "image/png": "[encoded data removed]",
      "text/plain": [
       "<Figure size 640x480 with 1 Axes>"
      ]
     },
     "metadata": {},
     "output_type": "display_data"
    }
   ],
   "source": [
    "# Print the dominant emotion\n",
    "print(result['dominant_emotion'])\n",
    "plt.pie(result['emotion'].values(), labels=result['emotion'].keys())\n",
    "plt.show()"
   ]
  }
 ],
 "metadata": {
  "kernelspec": {
   "display_name": "Python 3",
   "language": "python",
   "name": "python3"
  },
  "language_info": {
   "codemirror_mode": {
    "name": "ipython",
    "version": 3
   },
   "file_extension": ".py",
   "mimetype": "text/x-python",
   "name": "python",
   "nbconvert_exporter": "python",
   "pygments_lexer": "ipython3",
   "version": "3.10.0"
  },
  "orig_nbformat": 4,
  "vscode": {
   "interpreter": {
    "hash": "67711013f4f671bf9e66b2b6f1b2b1e41bd080a2df011cac9abe2b23e78f2ef6"
   }
  }
 },
 "nbformat": 4,
 "nbformat_minor": 2
}
